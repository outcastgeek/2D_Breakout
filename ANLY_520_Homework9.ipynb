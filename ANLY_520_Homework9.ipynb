{
  "nbformat": 4,
  "nbformat_minor": 0,
  "metadata": {
    "colab": {
      "name": "ANLY_520-Homework9.ipynb",
      "version": "0.3.2",
      "provenance": [],
      "collapsed_sections": [],
      "include_colab_link": true
    },
    "kernelspec": {
      "name": "python3",
      "display_name": "Python 3"
    }
  },
  "cells": [
    {
      "cell_type": "markdown",
      "metadata": {
        "id": "view-in-github",
        "colab_type": "text"
      },
      "source": [
        "<a href=\"https://colab.research.google.com/github/outcastgeek/2D_Breakout/blob/master/ANLY_520_Homework9.ipynb\" target=\"_parent\"><img src=\"https://colab.research.google.com/assets/colab-badge.svg\" alt=\"Open In Colab\"/></a>"
      ]
    },
    {
      "metadata": {
        "id": "fIHjLRLq2C7e",
        "colab_type": "code",
        "colab": {}
      },
      "cell_type": "code",
      "source": [
        "import nltk"
      ],
      "execution_count": 0,
      "outputs": []
    },
    {
      "metadata": {
        "id": "_bPDS53W4x_K",
        "colab_type": "text"
      },
      "cell_type": "markdown",
      "source": [
        "#Exercise 1: Simplifying Grammar\n",
        "\n",
        "* Starting from the following example, create a grammar that can correctly parse sentences like “I am happy.” and “She is happy.” but not “You is happy.” or “They am happy.”\n",
        "\n",
        "```\n",
        "S -> NP_SG VP_SG\n",
        "S -> NP_PL VP_PL\n",
        "NP_SG -> Det_SG N_SG\n",
        "NP_PL -> Det_PL N_PL\n",
        "VP_SG -> V_SG\n",
        "VP_PL -> V_PL\n",
        "\n",
        "Det_SG -> 'this'\n",
        "Det_PL -> 'these'\n",
        "N_SG -> 'dog'\n",
        "N_PL -> 'dogs'\n",
        "V_SG -> 'runs'\n",
        "V_PL -> 'run'\n",
        "```\n",
        "\n",
        "* Starting from the following example, use features to do the same thing.\n",
        "\n",
        "```\n",
        "S                                     -> NP[AGR=?n] VP[AGR=?n]\n",
        "NP[AGR=?n]                            -> PropN[AGR=?n]\n",
        "VP[TENSE=?t, AGR=?n]                  -> Cop[TENSE=?t, AGR=?n] Adj\n",
        "\n",
        "Cop[TENSE=pres,  AGR=[NUM=sg, PER=3]] -> 'is'\n",
        "PropN[AGR=[NUM=sg, PER=3]]            -> 'Kim'\n",
        "Adj                                   -> 'happy'\n",
        "```\n"
      ]
    },
    {
      "metadata": {
        "id": "xOe33BF35NKz",
        "colab_type": "code",
        "colab": {}
      },
      "cell_type": "code",
      "source": [
        "happy_sent1 = \"I am happy.\".split()\n",
        "happy_sent2 = \"She is happy.\".split()\n",
        "happy_sent3 = \"You are happy.\".split()\n",
        "happy_sent4 = \"They are happy.\".split()\n",
        "\n",
        "kinda_happy_sent1 = \"You is happy.\".split()\n",
        "kinda_happy_sent2 = \"They am happy.\".split()\n",
        "\n",
        "happy_grammar = nltk.CFG.fromstring(\"\"\"\n",
        "S -> NP_SG VP_SG\n",
        "S -> NP_PL VP_PL\n",
        "NP_SG -> N_SG\n",
        "NP_PL -> N_PL\n",
        "VP_SG -> V_SG JJ\n",
        "VP_PL -> V_PL JJ\n",
        "N_SG -> 'I' | 'She'\n",
        "N_PL -> 'You' | 'They'\n",
        "V_SG -> 'am' | 'is'\n",
        "V_PL -> 'are'\n",
        "JJ -> 'happy.'\n",
        "\"\"\")\n",
        "\n",
        "happy_parser = nltk.ChartParser(happy_grammar)"
      ],
      "execution_count": 0,
      "outputs": []
    },
    {
      "metadata": {
        "id": "u4oANbw48dBR",
        "colab_type": "code",
        "colab": {
          "base_uri": "https://localhost:8080/",
          "height": 170
        },
        "outputId": "9c7ed110-4df7-43b1-d9ac-45dfeaac678e"
      },
      "cell_type": "code",
      "source": [
        "for tree in happy_parser.parse(happy_sent1):\n",
        "  print(tree.pretty_print())"
      ],
      "execution_count": 26,
      "outputs": [
        {
          "output_type": "stream",
          "text": [
            "       S               \n",
            "   ____|_____           \n",
            "NP_SG      VP_SG       \n",
            "  |     _____|_____     \n",
            " N_SG V_SG         JJ  \n",
            "  |    |           |    \n",
            "  I    am        happy.\n",
            "\n",
            "None\n"
          ],
          "name": "stdout"
        }
      ]
    },
    {
      "metadata": {
        "id": "vIifG50u_pr-",
        "colab_type": "code",
        "colab": {
          "base_uri": "https://localhost:8080/",
          "height": 170
        },
        "outputId": "5e17258d-aa62-4719-92e7-d270d3aa3bed"
      },
      "cell_type": "code",
      "source": [
        "for tree in happy_parser.parse(happy_sent2):\n",
        "  print(tree.pretty_print())"
      ],
      "execution_count": 27,
      "outputs": [
        {
          "output_type": "stream",
          "text": [
            "       S               \n",
            "   ____|_____           \n",
            "NP_SG      VP_SG       \n",
            "  |     _____|_____     \n",
            " N_SG V_SG         JJ  \n",
            "  |    |           |    \n",
            " She   is        happy.\n",
            "\n",
            "None\n"
          ],
          "name": "stdout"
        }
      ]
    },
    {
      "metadata": {
        "id": "xaLz9JfyAwFg",
        "colab_type": "code",
        "colab": {
          "base_uri": "https://localhost:8080/",
          "height": 170
        },
        "outputId": "059f13eb-a234-4305-994d-2691c9f087d7"
      },
      "cell_type": "code",
      "source": [
        "for tree in happy_parser.parse(happy_sent3):\n",
        "  print(tree.pretty_print())"
      ],
      "execution_count": 30,
      "outputs": [
        {
          "output_type": "stream",
          "text": [
            "       S               \n",
            "   ____|_____           \n",
            "NP_PL      VP_PL       \n",
            "  |     _____|_____     \n",
            " N_PL V_PL         JJ  \n",
            "  |    |           |    \n",
            " You  are        happy.\n",
            "\n",
            "None\n"
          ],
          "name": "stdout"
        }
      ]
    },
    {
      "metadata": {
        "id": "t4RG92GeBLhq",
        "colab_type": "code",
        "colab": {
          "base_uri": "https://localhost:8080/",
          "height": 170
        },
        "outputId": "11353927-68ab-47a7-8bca-272bdd658bbe"
      },
      "cell_type": "code",
      "source": [
        "for tree in happy_parser.parse(happy_sent4):\n",
        "  print(tree.pretty_print())"
      ],
      "execution_count": 31,
      "outputs": [
        {
          "output_type": "stream",
          "text": [
            "       S               \n",
            "   ____|_____           \n",
            "NP_PL      VP_PL       \n",
            "  |     _____|_____     \n",
            " N_PL V_PL         JJ  \n",
            "  |    |           |    \n",
            " They are        happy.\n",
            "\n",
            "None\n"
          ],
          "name": "stdout"
        }
      ]
    },
    {
      "metadata": {
        "id": "UWtIe-ErBR5C",
        "colab_type": "code",
        "colab": {}
      },
      "cell_type": "code",
      "source": [
        "for tree in happy_parser.parse(kinda_happy_sent1):\n",
        "  print(tree.pretty_print()) # Shoud print Nothing"
      ],
      "execution_count": 0,
      "outputs": []
    },
    {
      "metadata": {
        "id": "xwc-cmxqB1wy",
        "colab_type": "code",
        "colab": {}
      },
      "cell_type": "code",
      "source": [
        "for tree in happy_parser.parse(kinda_happy_sent2):\n",
        "  print(tree.pretty_print()) # Shoud print Nothing"
      ],
      "execution_count": 0,
      "outputs": []
    },
    {
      "metadata": {
        "id": "4mwb78T4CBLb",
        "colab_type": "text"
      },
      "cell_type": "markdown",
      "source": [
        "## Now using features..."
      ]
    },
    {
      "metadata": {
        "id": "GVjqSTuSCF97",
        "colab_type": "code",
        "colab": {}
      },
      "cell_type": "code",
      "source": [
        "happy_feature_grammar = nltk.grammar.FeatureGrammar.fromstring(\"\"\"\n",
        "% start S\n",
        "S -> NP[AGR=?n] VP[AGR=?n]\n",
        "NP[AGR=?n]                            -> PropN[AGR=?n]\n",
        "VP[TENSE=?t, AGR=?n]                  -> Cop[TENSE=?t, AGR=?n] Adj\n",
        "Cop[TENSE=pres,  AGR=[NUM=sg, PER=3]] -> 'am' | 'is'\n",
        "Cop[TENSE=pres,  AGR=[NUM=pl, PER=3]] -> 'are'\n",
        "PropN[AGR=[NUM=sg, PER=3]]            -> 'I' | 'She'\n",
        "PropN[AGR=[NUM=pl, PER=3]]            -> 'You' | 'They'\n",
        "Adj                                   -> 'happy.'\n",
        "\"\"\")\n",
        "\n",
        "happy_feature_parser = nltk.parse.FeatureEarleyChartParser(happy_feature_grammar)"
      ],
      "execution_count": 0,
      "outputs": []
    },
    {
      "metadata": {
        "id": "TOmlatLECzDD",
        "colab_type": "code",
        "colab": {
          "base_uri": "https://localhost:8080/",
          "height": 102
        },
        "outputId": "3d4f4fb5-67d5-480d-b05e-906377e932e9"
      },
      "cell_type": "code",
      "source": [
        "for tree in happy_feature_parser.parse(happy_sent1):\n",
        "  print(tree)"
      ],
      "execution_count": 65,
      "outputs": [
        {
          "output_type": "stream",
          "text": [
            "(S[]\n",
            "  (NP[AGR=[NUM='sg', PER=3]] (PropN[AGR=[NUM='sg', PER=3]] I))\n",
            "  (VP[AGR=[NUM='sg', PER=3], TENSE='pres']\n",
            "    (Cop[AGR=[NUM='sg', PER=3], TENSE='pres'] am)\n",
            "    (Adj[] happy.)))\n"
          ],
          "name": "stdout"
        }
      ]
    },
    {
      "metadata": {
        "id": "JYQADnG4DmTu",
        "colab_type": "code",
        "colab": {
          "base_uri": "https://localhost:8080/",
          "height": 102
        },
        "outputId": "25ba4090-707e-44d3-c3fc-4a6a2554317d"
      },
      "cell_type": "code",
      "source": [
        "for tree in happy_feature_parser.parse(happy_sent2):\n",
        "  print(tree)"
      ],
      "execution_count": 66,
      "outputs": [
        {
          "output_type": "stream",
          "text": [
            "(S[]\n",
            "  (NP[AGR=[NUM='sg', PER=3]] (PropN[AGR=[NUM='sg', PER=3]] She))\n",
            "  (VP[AGR=[NUM='sg', PER=3], TENSE='pres']\n",
            "    (Cop[AGR=[NUM='sg', PER=3], TENSE='pres'] is)\n",
            "    (Adj[] happy.)))\n"
          ],
          "name": "stdout"
        }
      ]
    },
    {
      "metadata": {
        "id": "UluiURAYFIF4",
        "colab_type": "code",
        "colab": {
          "base_uri": "https://localhost:8080/",
          "height": 102
        },
        "outputId": "3b639218-66a8-48a3-f41b-db4eadb3bd59"
      },
      "cell_type": "code",
      "source": [
        "for tree in happy_feature_parser.parse(happy_sent3):\n",
        "  print(tree)"
      ],
      "execution_count": 67,
      "outputs": [
        {
          "output_type": "stream",
          "text": [
            "(S[]\n",
            "  (NP[AGR=[NUM='pl', PER=3]] (PropN[AGR=[NUM='pl', PER=3]] You))\n",
            "  (VP[AGR=[NUM='pl', PER=3], TENSE='pres']\n",
            "    (Cop[AGR=[NUM='pl', PER=3], TENSE='pres'] are)\n",
            "    (Adj[] happy.)))\n"
          ],
          "name": "stdout"
        }
      ]
    },
    {
      "metadata": {
        "id": "0xmE-VPyFLOw",
        "colab_type": "code",
        "colab": {
          "base_uri": "https://localhost:8080/",
          "height": 102
        },
        "outputId": "89ceebc3-de1c-4bb1-e35b-9253a4d9edc9"
      },
      "cell_type": "code",
      "source": [
        "for tree in happy_feature_parser.parse(happy_sent4):\n",
        "  print(tree)"
      ],
      "execution_count": 68,
      "outputs": [
        {
          "output_type": "stream",
          "text": [
            "(S[]\n",
            "  (NP[AGR=[NUM='pl', PER=3]] (PropN[AGR=[NUM='pl', PER=3]] They))\n",
            "  (VP[AGR=[NUM='pl', PER=3], TENSE='pres']\n",
            "    (Cop[AGR=[NUM='pl', PER=3], TENSE='pres'] are)\n",
            "    (Adj[] happy.)))\n"
          ],
          "name": "stdout"
        }
      ]
    },
    {
      "metadata": {
        "id": "0gce4sqUFNmA",
        "colab_type": "code",
        "colab": {}
      },
      "cell_type": "code",
      "source": [
        "for tree in happy_feature_parser.parse(kinda_happy_sent1):\n",
        "  print(tree) # Shoud print Nothing"
      ],
      "execution_count": 0,
      "outputs": []
    },
    {
      "metadata": {
        "id": "91eRgbjWFThR",
        "colab_type": "code",
        "colab": {}
      },
      "cell_type": "code",
      "source": [
        "for tree in happy_feature_parser.parse(kinda_happy_sent2):\n",
        "  print(tree) # Shoud print Nothing"
      ],
      "execution_count": 0,
      "outputs": []
    },
    {
      "metadata": {
        "id": "pLyi45qJHRaE",
        "colab_type": "text"
      },
      "cell_type": "markdown",
      "source": [
        "# Exercise 2: Subsuming\n",
        "\n",
        "* Write a function subsumes() that takes two feature structures f1 and f2 as arguments, and returns true if f1 subsumes f2.\n",
        "* Test your function with arguments that will test both true and false conditions.\n",
        "* Paste a screenshot of your Python interpreter showing your commands and the results."
      ]
    },
    {
      "metadata": {
        "id": "Uw3hqWDmHe_2",
        "colab_type": "code",
        "colab": {}
      },
      "cell_type": "code",
      "source": [
        "fs1 = dict(state=\"Minnesota\")\n",
        "fs2 = dict(city=\"Eagan\", state=\"Minnesota\")\n",
        "\n",
        "def subsumes(fs1, fs2):\n",
        "  return nltk.FeatStruct(fs1).subsumes(nltk.FeatStruct(fs2))"
      ],
      "execution_count": 0,
      "outputs": []
    },
    {
      "metadata": {
        "id": "WZR4vJyWJA8a",
        "colab_type": "code",
        "colab": {
          "base_uri": "https://localhost:8080/",
          "height": 34
        },
        "outputId": "5cd17149-0a7e-4bf6-8586-2ba147a13cf4"
      },
      "cell_type": "code",
      "source": [
        "subsumes(fs1, fs2) # returns true"
      ],
      "execution_count": 90,
      "outputs": [
        {
          "output_type": "execute_result",
          "data": {
            "text/plain": [
              "True"
            ]
          },
          "metadata": {
            "tags": []
          },
          "execution_count": 90
        }
      ]
    },
    {
      "metadata": {
        "id": "yw5Udlc_JUeL",
        "colab_type": "code",
        "colab": {
          "base_uri": "https://localhost:8080/",
          "height": 34
        },
        "outputId": "0f5fb653-c771-4223-eadd-ad84166bed67"
      },
      "cell_type": "code",
      "source": [
        "subsumes(fs2, fs1) # returns false"
      ],
      "execution_count": 91,
      "outputs": [
        {
          "output_type": "execute_result",
          "data": {
            "text/plain": [
              "False"
            ]
          },
          "metadata": {
            "tags": []
          },
          "execution_count": 91
        }
      ]
    },
    {
      "metadata": {
        "id": "cG-NRc3THoFM",
        "colab_type": "text"
      },
      "cell_type": "markdown",
      "source": [
        "# Exercise 3: Subcategorization\n",
        "\n",
        "Modify the German grammar shown here to use a subcategory feature for transitive vs. intransitive verbs.\n",
        "\n",
        "```\n",
        "IV[AGR=[NUM=sg,PER=1]] -> 'komme'\n",
        "IV[AGR=[NUM=sg,PER=2]] -> 'kommst'\n",
        "IV[AGR=[NUM=sg,PER=3]] -> 'kommt'\n",
        "IV[AGR=[NUM=pl, PER=1]] -> 'kommen'\n",
        "IV[AGR=[NUM=pl, PER=2]] -> 'kommt'\n",
        "IV[AGR=[NUM=pl, PER=3]] -> 'kommen'\n",
        "TV[OBJCASE=acc, AGR=[NUM=sg,PER=1]] -> 'sehe' | 'mag'\n",
        "TV[OBJCASE=acc, AGR=[NUM=sg,PER=2]] -> 'siehst' | 'magst'\n",
        "TV[OBJCASE=acc, AGR=[NUM=sg,PER=3]] -> 'sieht' | 'mag'\n",
        "TV[OBJCASE=dat, AGR=[NUM=sg,PER=1]] -> 'folge' | 'helfe'\n",
        "TV[OBJCASE=dat, AGR=[NUM=sg,PER=2]] -> 'folgst' | 'hilfst'\n",
        "TV[OBJCASE=dat, AGR=[NUM=sg,PER=3]] -> 'folgt' | 'hilft'\n",
        "TV[OBJCASE=acc, AGR=[NUM=pl,PER=1]] -> 'sehen' | 'moegen'\n",
        "TV[OBJCASE=acc, AGR=[NUM=pl,PER=2]] -> 'sieht' | 'moegt'\n",
        "TV[OBJCASE=acc, AGR=[NUM=pl,PER=3]] -> 'sehen' | 'moegen'\n",
        "TV[OBJCASE=dat, AGR=[NUM=pl,PER=1]] -> 'folgen' | 'helfen'\n",
        "TV[OBJCASE=dat, AGR=[NUM=pl,PER=2]] -> 'folgt' | 'helft'\n",
        "TV[OBJCASE=dat, AGR=[NUM=pl,PER=3]] -> 'folgen' | 'helfen'\n",
        "```"
      ]
    },
    {
      "metadata": {
        "id": "wM_5rp-rHxzF",
        "colab_type": "code",
        "colab": {}
      },
      "cell_type": "code",
      "source": [
        ""
      ],
      "execution_count": 0,
      "outputs": []
    }
  ]
}